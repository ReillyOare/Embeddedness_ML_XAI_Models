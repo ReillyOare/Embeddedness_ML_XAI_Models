{
 "cells": [
  {
   "cell_type": "markdown",
   "id": "09f8c9c0",
   "metadata": {},
   "source": [
    "# VA DEQ & StreamStats Feature Engineering\n",
    "\n",
    "The purpose of this Jupyter notebook is to load data cleaned in another notebook and transform the data appropriately. This dataset will be ready for model training.\n",
    "\n",
    "EDA was conducted prior at \\\\models\\\\model1_streamstats_va\\\\eda\\\\VADEQ_Stmsts_EDA.ipynb\n",
    "\n",
    "Emma Reilly Oare"
   ]
  },
  {
   "cell_type": "code",
   "execution_count": 1,
   "id": "f7e49d1b",
   "metadata": {},
   "outputs": [],
   "source": [
    "# Standard Libraries\n",
    "import os  # File handling and directory management\n",
    "import warnings  # Suppress warnings\n",
    "\n",
    "# Data Handling\n",
    "import pandas as pd  # Data manipulation and analysis\n",
    "import numpy as np  # Numerical operations\n",
    "\n",
    "# Visualization\n",
    "import matplotlib.pyplot as plt  # Basic plotting\n",
    "import seaborn as sns  # Statistical visualization\n",
    "\n",
    "# Machine Learning & Feature Engineering\n",
    "from sklearn.preprocessing import StandardScaler, MinMaxScaler, RobustScaler, OneHotEncoder  # Scaling & encoding\n",
    "from sklearn.decomposition import PCA  # Dimensionality reduction\n",
    "from sklearn.feature_selection import SelectKBest, f_regression  # Feature selection\n",
    "\n",
    "# Suppress warnings\n",
    "warnings.filterwarnings(\"ignore\")"
   ]
  },
  {
   "cell_type": "markdown",
   "id": "e5027638",
   "metadata": {},
   "source": [
    "## Step 1. Import dataset"
   ]
  },
  {
   "cell_type": "code",
   "execution_count": 2,
   "id": "e9e65156-6f1c-4bda-82b0-c609d76a958d",
   "metadata": {},
   "outputs": [],
   "source": [
    "# Define base directory\n",
    "BASE_DIR = os.path.abspath(os.path.join(os.getcwd(), \"../../..\"))"
   ]
  },
  {
   "cell_type": "code",
   "execution_count": 3,
   "id": "67ea49d4",
   "metadata": {},
   "outputs": [],
   "source": [
    "# Read in file\n",
    "vadeq_path = os.path.join(BASE_DIR, \"data\", \"processed\", \"virginia\", \"vadeq_strmsts_after_eda.xlsx\")\n",
    "vadeq_strmsts = pd.read_excel(vadeq_path).drop(columns = ['Unnamed: 0'])"
   ]
  },
  {
   "cell_type": "code",
   "execution_count": 4,
   "id": "14270e26-65e0-46cc-9bef-efa65e2c86bc",
   "metadata": {},
   "outputs": [
    {
     "data": {
      "text/html": [
       "<div>\n",
       "<style scoped>\n",
       "    .dataframe tbody tr th:only-of-type {\n",
       "        vertical-align: middle;\n",
       "    }\n",
       "\n",
       "    .dataframe tbody tr th {\n",
       "        vertical-align: top;\n",
       "    }\n",
       "\n",
       "    .dataframe thead th {\n",
       "        text-align: right;\n",
       "    }\n",
       "</style>\n",
       "<table border=\"1\" class=\"dataframe\">\n",
       "  <thead>\n",
       "    <tr style=\"text-align: right;\">\n",
       "      <th></th>\n",
       "      <th>StationID</th>\n",
       "      <th>Xembed</th>\n",
       "      <th>STATSGODEP</th>\n",
       "      <th>ELEV</th>\n",
       "      <th>STATSCLY20</th>\n",
       "      <th>RELIEF</th>\n",
       "      <th>STATSPERM</th>\n",
       "      <th>STATSCLY50</th>\n",
       "      <th>LC11FORSHB</th>\n",
       "      <th>LC11CRPHAY</th>\n",
       "      <th>I24H2Y</th>\n",
       "      <th>PRECIP</th>\n",
       "      <th>Year</th>\n",
       "      <th>DRNAREA_SQKM</th>\n",
       "      <th>PKREGNO_1550</th>\n",
       "      <th>PKREGNO_1551</th>\n",
       "      <th>PKREGNO_1552</th>\n",
       "      <th>PKREGNO_1553</th>\n",
       "      <th>PKREGNO_1554</th>\n",
       "      <th>PKREGNO_1555</th>\n",
       "    </tr>\n",
       "  </thead>\n",
       "  <tbody>\n",
       "    <tr>\n",
       "      <th>0</th>\n",
       "      <td>1AACO006.10</td>\n",
       "      <td>62.545455</td>\n",
       "      <td>70.48</td>\n",
       "      <td>148.98</td>\n",
       "      <td>0.00</td>\n",
       "      <td>171.0</td>\n",
       "      <td>2.895</td>\n",
       "      <td>0.00</td>\n",
       "      <td>16.23</td>\n",
       "      <td>0.00</td>\n",
       "      <td>3.140</td>\n",
       "      <td>43.078</td>\n",
       "      <td>2006</td>\n",
       "      <td>0.181817</td>\n",
       "      <td>False</td>\n",
       "      <td>True</td>\n",
       "      <td>False</td>\n",
       "      <td>False</td>\n",
       "      <td>False</td>\n",
       "      <td>False</td>\n",
       "    </tr>\n",
       "    <tr>\n",
       "      <th>1</th>\n",
       "      <td>1AACO004.84</td>\n",
       "      <td>51.636364</td>\n",
       "      <td>66.65</td>\n",
       "      <td>308.44</td>\n",
       "      <td>51.85</td>\n",
       "      <td>451.0</td>\n",
       "      <td>2.395</td>\n",
       "      <td>0.00</td>\n",
       "      <td>22.49</td>\n",
       "      <td>0.11</td>\n",
       "      <td>3.167</td>\n",
       "      <td>43.888</td>\n",
       "      <td>2008</td>\n",
       "      <td>104.894595</td>\n",
       "      <td>True</td>\n",
       "      <td>False</td>\n",
       "      <td>False</td>\n",
       "      <td>False</td>\n",
       "      <td>False</td>\n",
       "      <td>False</td>\n",
       "    </tr>\n",
       "    <tr>\n",
       "      <th>2</th>\n",
       "      <td>1AACO006.10</td>\n",
       "      <td>56.818182</td>\n",
       "      <td>70.48</td>\n",
       "      <td>148.98</td>\n",
       "      <td>0.00</td>\n",
       "      <td>171.0</td>\n",
       "      <td>2.895</td>\n",
       "      <td>0.00</td>\n",
       "      <td>16.23</td>\n",
       "      <td>0.00</td>\n",
       "      <td>3.140</td>\n",
       "      <td>43.078</td>\n",
       "      <td>2008</td>\n",
       "      <td>0.181817</td>\n",
       "      <td>False</td>\n",
       "      <td>True</td>\n",
       "      <td>False</td>\n",
       "      <td>False</td>\n",
       "      <td>False</td>\n",
       "      <td>False</td>\n",
       "    </tr>\n",
       "    <tr>\n",
       "      <th>3</th>\n",
       "      <td>1AACO009.14</td>\n",
       "      <td>63.454545</td>\n",
       "      <td>66.39</td>\n",
       "      <td>324.56</td>\n",
       "      <td>54.64</td>\n",
       "      <td>357.0</td>\n",
       "      <td>2.271</td>\n",
       "      <td>0.00</td>\n",
       "      <td>22.65</td>\n",
       "      <td>0.09</td>\n",
       "      <td>3.169</td>\n",
       "      <td>43.981</td>\n",
       "      <td>2008</td>\n",
       "      <td>94.016637</td>\n",
       "      <td>False</td>\n",
       "      <td>True</td>\n",
       "      <td>False</td>\n",
       "      <td>False</td>\n",
       "      <td>False</td>\n",
       "      <td>False</td>\n",
       "    </tr>\n",
       "    <tr>\n",
       "      <th>4</th>\n",
       "      <td>1AAUA017.60</td>\n",
       "      <td>65.454545</td>\n",
       "      <td>56.77</td>\n",
       "      <td>317.16</td>\n",
       "      <td>0.30</td>\n",
       "      <td>278.0</td>\n",
       "      <td>1.506</td>\n",
       "      <td>0.00</td>\n",
       "      <td>67.67</td>\n",
       "      <td>7.74</td>\n",
       "      <td>3.055</td>\n",
       "      <td>43.317</td>\n",
       "      <td>2005</td>\n",
       "      <td>76.922703</td>\n",
       "      <td>False</td>\n",
       "      <td>True</td>\n",
       "      <td>False</td>\n",
       "      <td>False</td>\n",
       "      <td>False</td>\n",
       "      <td>False</td>\n",
       "    </tr>\n",
       "    <tr>\n",
       "      <th>...</th>\n",
       "      <td>...</td>\n",
       "      <td>...</td>\n",
       "      <td>...</td>\n",
       "      <td>...</td>\n",
       "      <td>...</td>\n",
       "      <td>...</td>\n",
       "      <td>...</td>\n",
       "      <td>...</td>\n",
       "      <td>...</td>\n",
       "      <td>...</td>\n",
       "      <td>...</td>\n",
       "      <td>...</td>\n",
       "      <td>...</td>\n",
       "      <td>...</td>\n",
       "      <td>...</td>\n",
       "      <td>...</td>\n",
       "      <td>...</td>\n",
       "      <td>...</td>\n",
       "      <td>...</td>\n",
       "      <td>...</td>\n",
       "    </tr>\n",
       "    <tr>\n",
       "      <th>1112</th>\n",
       "      <td>2BXRK001.64</td>\n",
       "      <td>67.090909</td>\n",
       "      <td>68.00</td>\n",
       "      <td>796.84</td>\n",
       "      <td>0.00</td>\n",
       "      <td>575.0</td>\n",
       "      <td>2.000</td>\n",
       "      <td>0.00</td>\n",
       "      <td>95.34</td>\n",
       "      <td>0.00</td>\n",
       "      <td>3.723</td>\n",
       "      <td>49.307</td>\n",
       "      <td>2022</td>\n",
       "      <td>1.968392</td>\n",
       "      <td>False</td>\n",
       "      <td>False</td>\n",
       "      <td>False</td>\n",
       "      <td>True</td>\n",
       "      <td>False</td>\n",
       "      <td>False</td>\n",
       "    </tr>\n",
       "    <tr>\n",
       "      <th>1113</th>\n",
       "      <td>2-JKS070.06</td>\n",
       "      <td>27.636364</td>\n",
       "      <td>44.64</td>\n",
       "      <td>2821.90</td>\n",
       "      <td>69.18</td>\n",
       "      <td>2550.0</td>\n",
       "      <td>5.089</td>\n",
       "      <td>0.00</td>\n",
       "      <td>77.43</td>\n",
       "      <td>17.98</td>\n",
       "      <td>2.959</td>\n",
       "      <td>43.163</td>\n",
       "      <td>2022</td>\n",
       "      <td>269.358960</td>\n",
       "      <td>False</td>\n",
       "      <td>False</td>\n",
       "      <td>False</td>\n",
       "      <td>False</td>\n",
       "      <td>True</td>\n",
       "      <td>False</td>\n",
       "    </tr>\n",
       "    <tr>\n",
       "      <th>1114</th>\n",
       "      <td>4ASNA007.82</td>\n",
       "      <td>95.909091</td>\n",
       "      <td>71.04</td>\n",
       "      <td>604.47</td>\n",
       "      <td>0.00</td>\n",
       "      <td>691.0</td>\n",
       "      <td>1.114</td>\n",
       "      <td>90.49</td>\n",
       "      <td>60.89</td>\n",
       "      <td>23.17</td>\n",
       "      <td>3.319</td>\n",
       "      <td>45.609</td>\n",
       "      <td>2022</td>\n",
       "      <td>206.940201</td>\n",
       "      <td>False</td>\n",
       "      <td>True</td>\n",
       "      <td>False</td>\n",
       "      <td>False</td>\n",
       "      <td>False</td>\n",
       "      <td>False</td>\n",
       "    </tr>\n",
       "    <tr>\n",
       "      <th>1115</th>\n",
       "      <td>8-MIC001.47</td>\n",
       "      <td>89.090909</td>\n",
       "      <td>72.00</td>\n",
       "      <td>298.12</td>\n",
       "      <td>0.00</td>\n",
       "      <td>197.0</td>\n",
       "      <td>1.000</td>\n",
       "      <td>100.00</td>\n",
       "      <td>41.15</td>\n",
       "      <td>49.07</td>\n",
       "      <td>3.290</td>\n",
       "      <td>43.671</td>\n",
       "      <td>2022</td>\n",
       "      <td>14.633444</td>\n",
       "      <td>False</td>\n",
       "      <td>True</td>\n",
       "      <td>False</td>\n",
       "      <td>False</td>\n",
       "      <td>False</td>\n",
       "      <td>False</td>\n",
       "    </tr>\n",
       "    <tr>\n",
       "      <th>1116</th>\n",
       "      <td>4ALRO010.18</td>\n",
       "      <td>77.818182</td>\n",
       "      <td>70.50</td>\n",
       "      <td>521.23</td>\n",
       "      <td>0.00</td>\n",
       "      <td>229.0</td>\n",
       "      <td>1.086</td>\n",
       "      <td>88.37</td>\n",
       "      <td>64.48</td>\n",
       "      <td>22.69</td>\n",
       "      <td>3.307</td>\n",
       "      <td>45.533</td>\n",
       "      <td>2020</td>\n",
       "      <td>21.937215</td>\n",
       "      <td>False</td>\n",
       "      <td>False</td>\n",
       "      <td>True</td>\n",
       "      <td>False</td>\n",
       "      <td>False</td>\n",
       "      <td>False</td>\n",
       "    </tr>\n",
       "  </tbody>\n",
       "</table>\n",
       "<p>1117 rows × 20 columns</p>\n",
       "</div>"
      ],
      "text/plain": [
       "        StationID     Xembed  STATSGODEP     ELEV  STATSCLY20  RELIEF  \\\n",
       "0     1AACO006.10  62.545455       70.48   148.98        0.00   171.0   \n",
       "1     1AACO004.84  51.636364       66.65   308.44       51.85   451.0   \n",
       "2     1AACO006.10  56.818182       70.48   148.98        0.00   171.0   \n",
       "3     1AACO009.14  63.454545       66.39   324.56       54.64   357.0   \n",
       "4     1AAUA017.60  65.454545       56.77   317.16        0.30   278.0   \n",
       "...           ...        ...         ...      ...         ...     ...   \n",
       "1112  2BXRK001.64  67.090909       68.00   796.84        0.00   575.0   \n",
       "1113  2-JKS070.06  27.636364       44.64  2821.90       69.18  2550.0   \n",
       "1114  4ASNA007.82  95.909091       71.04   604.47        0.00   691.0   \n",
       "1115  8-MIC001.47  89.090909       72.00   298.12        0.00   197.0   \n",
       "1116  4ALRO010.18  77.818182       70.50   521.23        0.00   229.0   \n",
       "\n",
       "      STATSPERM  STATSCLY50  LC11FORSHB  LC11CRPHAY  I24H2Y  PRECIP  Year  \\\n",
       "0         2.895        0.00       16.23        0.00   3.140  43.078  2006   \n",
       "1         2.395        0.00       22.49        0.11   3.167  43.888  2008   \n",
       "2         2.895        0.00       16.23        0.00   3.140  43.078  2008   \n",
       "3         2.271        0.00       22.65        0.09   3.169  43.981  2008   \n",
       "4         1.506        0.00       67.67        7.74   3.055  43.317  2005   \n",
       "...         ...         ...         ...         ...     ...     ...   ...   \n",
       "1112      2.000        0.00       95.34        0.00   3.723  49.307  2022   \n",
       "1113      5.089        0.00       77.43       17.98   2.959  43.163  2022   \n",
       "1114      1.114       90.49       60.89       23.17   3.319  45.609  2022   \n",
       "1115      1.000      100.00       41.15       49.07   3.290  43.671  2022   \n",
       "1116      1.086       88.37       64.48       22.69   3.307  45.533  2020   \n",
       "\n",
       "      DRNAREA_SQKM  PKREGNO_1550  PKREGNO_1551  PKREGNO_1552  PKREGNO_1553  \\\n",
       "0         0.181817         False          True         False         False   \n",
       "1       104.894595          True         False         False         False   \n",
       "2         0.181817         False          True         False         False   \n",
       "3        94.016637         False          True         False         False   \n",
       "4        76.922703         False          True         False         False   \n",
       "...            ...           ...           ...           ...           ...   \n",
       "1112      1.968392         False         False         False          True   \n",
       "1113    269.358960         False         False         False         False   \n",
       "1114    206.940201         False          True         False         False   \n",
       "1115     14.633444         False          True         False         False   \n",
       "1116     21.937215         False         False          True         False   \n",
       "\n",
       "      PKREGNO_1554  PKREGNO_1555  \n",
       "0            False         False  \n",
       "1            False         False  \n",
       "2            False         False  \n",
       "3            False         False  \n",
       "4            False         False  \n",
       "...            ...           ...  \n",
       "1112         False         False  \n",
       "1113          True         False  \n",
       "1114         False         False  \n",
       "1115         False         False  \n",
       "1116         False         False  \n",
       "\n",
       "[1117 rows x 20 columns]"
      ]
     },
     "execution_count": 4,
     "metadata": {},
     "output_type": "execute_result"
    }
   ],
   "source": [
    "# Display data frame\n",
    "vadeq_strmsts"
   ]
  },
  {
   "cell_type": "markdown",
   "id": "96786d50",
   "metadata": {},
   "source": [
    "## Step 2. Feature Engineering\n",
    "\n",
    "We will explore transforming the feature sets to more closely follow a Gaussian distribution. We will use visual and statistical methods to select the best transformation tested. We will test:\n",
    "- log\n",
    "- square root\n",
    "- power\n",
    "- box-cox\n",
    "- reciprocal\n",
    "- Yeo-Johnson Power Transformation\n",
    "- Normal Quantile Transformation\n",
    "\n",
    "We will go through each feature individually below."
   ]
  },
  {
   "cell_type": "markdown",
   "id": "e6c8629f",
   "metadata": {},
   "source": [
    "### 2a. Visualize Transformations"
   ]
  },
  {
   "cell_type": "code",
   "execution_count": 5,
   "id": "14418f64",
   "metadata": {},
   "outputs": [],
   "source": [
    "# Define function for applying transformations\n",
    "def apply_transformation(data, transform):\n",
    "    if transform == 'log':\n",
    "        return np.log(data + 1)\n",
    "    elif transform == 'sqrt':\n",
    "        return np.sqrt(data)\n",
    "    elif transform == 'cbrt':\n",
    "        return np.power(data, 1/3)\n",
    "    elif transform == 'boxcox':\n",
    "        if (data > 0).all():\n",
    "            return stats.boxcox(data)[0]\n",
    "        else:\n",
    "            return None\n",
    "    elif transform == 'reciprocal':\n",
    "        return 1 / (data + 1)\n",
    "    elif transform == 'yeo_johnson':\n",
    "        pt = PowerTransformer(method='yeo-johnson')\n",
    "        return pt.fit_transform(data.values.reshape(-1, 1)).flatten()\n",
    "    elif transform == 'quantile_normal':\n",
    "        qt = QuantileTransformer(output_distribution='normal')\n",
    "        return qt.fit_transform(data.values.reshape(-1, 1)).flatten()\n",
    "    else:\n",
    "        return data\n",
    "\n",
    "# Define function for evaluating normality based on statistical measures (Shapiro and Anderson)\n",
    "def evaluate_normality(data):\n",
    "    shapiro_stat, shapiro_p_value = stats.shapiro(data)\n",
    "    ad_stat, ad_critical_values, ad_significance_level = stats.anderson(data, dist='norm')\n",
    "    return {\n",
    "        'shapiro_stat': shapiro_stat,\n",
    "        'shapiro_p_value': shapiro_p_value,\n",
    "        'ad_stat': ad_stat,\n",
    "        'ad_significance_level': ad_significance_level\n",
    "    }\n",
    "\n",
    "# Define function that uses apply_transformation and evaluate_normality to visualize and test for normality\n",
    "def normality(data, feature):\n",
    "    transformations = {\n",
    "        'Original': None,\n",
    "        'Log': 'log',\n",
    "        'Square Root': 'sqrt',\n",
    "        'Cube Root': 'cbrt',\n",
    "        'Box-Cox': 'boxcox',\n",
    "        'Reciprocal': 'reciprocal',\n",
    "        'Yeo-Johnson': 'yeo_johnson',\n",
    "        'Quantile Normal': 'quantile_normal'\n",
    "    }\n",
    "\n",
    "    results = {}\n",
    "\n",
    "    fig, axes = plt.subplots(len(transformations), 2, figsize=(15, 5 * len(transformations)))\n",
    "\n",
    "    # Handle infinite values in the original data\n",
    "    original_data = data[feature].replace([np.inf, -np.inf], np.nan).dropna()\n",
    "\n",
    "    for i, (name, transform) in enumerate(transformations.items()):\n",
    "        if transform is None:\n",
    "            transformed_data = original_data\n",
    "        else:\n",
    "            transformed_data = apply_transformation(original_data, transform)\n",
    "            if transformed_data is None:\n",
    "                axes[i, 0].set_visible(False)\n",
    "                axes[i, 1].set_visible(False)\n",
    "                continue\n",
    "\n",
    "        # Plot two normality plots -> KDE and Q-Q\n",
    "        sns.kdeplot(transformed_data, ax=axes[i, 0])\n",
    "        axes[i, 0].set_title(f'{name} KDE')\n",
    "        stats.probplot(transformed_data, plot=axes[i, 1])\n",
    "        axes[i, 1].set_title(f'{name} Q-Q plot')\n",
    "\n",
    "        # Evaluate normality\n",
    "        result = evaluate_normality(transformed_data)\n",
    "        results[name] = result\n",
    "\n",
    "    plt.tight_layout()\n",
    "    plt.show()\n",
    "\n",
    "    # Print the results\n",
    "    for name, result in results.items():\n",
    "        print(f'{name} Transformation:')\n",
    "        print(f'  Shapiro-Wilk Test Statistic = {result[\"shapiro_stat\"]:.4f}, p-value = {result[\"shapiro_p_value\"]:.4f}')\n",
    "        print(f'  Anderson-Darling Test Statistic = {result[\"ad_stat\"]:.4f}, Significance Level = {result[\"ad_significance_level\"]}\\n')\n",
    "\n",
    "    # Find and print the best transformation based on Shapiro-Wilk Test\n",
    "    best_transformation = max(results, key=lambda x: results[x]['shapiro_stat'])\n",
    "    print(f'Best transformation according to Shapiro-Wilk Test: {best_transformation}')\n",
    "\n",
    "    # Find and print the best transformation based on Anderson-Darling Test\n",
    "    best_ad_transformation = min(results, key=lambda x: results[x]['ad_stat'])\n",
    "    print(f'Best transformation according to Anderson-Darling Test: {best_ad_transformation}')"
   ]
  },
  {
   "cell_type": "markdown",
   "id": "b10fc6ca",
   "metadata": {},
   "source": [
    "#### STATSGODEP"
   ]
  },
  {
   "cell_type": "code",
   "execution_count": 6,
   "id": "08729280",
   "metadata": {},
   "outputs": [
    {
     "ename": "NameError",
     "evalue": "name 'stats' is not defined",
     "output_type": "error",
     "traceback": [
      "\u001b[1;31m---------------------------------------------------------------------------\u001b[0m",
      "\u001b[1;31mNameError\u001b[0m                                 Traceback (most recent call last)",
      "Cell \u001b[1;32mIn[6], line 2\u001b[0m\n\u001b[0;32m      1\u001b[0m \u001b[38;5;66;03m# Normality plots for STATSGODEP feature\u001b[39;00m\n\u001b[1;32m----> 2\u001b[0m normality(vadeq_strmsts, \u001b[38;5;124m'\u001b[39m\u001b[38;5;124mSTATSGODEP\u001b[39m\u001b[38;5;124m'\u001b[39m)\n",
      "Cell \u001b[1;32mIn[5], line 69\u001b[0m, in \u001b[0;36mnormality\u001b[1;34m(data, feature)\u001b[0m\n\u001b[0;32m     67\u001b[0m sns\u001b[38;5;241m.\u001b[39mkdeplot(transformed_data, ax\u001b[38;5;241m=\u001b[39maxes[i, \u001b[38;5;241m0\u001b[39m])\n\u001b[0;32m     68\u001b[0m axes[i, \u001b[38;5;241m0\u001b[39m]\u001b[38;5;241m.\u001b[39mset_title(\u001b[38;5;124mf\u001b[39m\u001b[38;5;124m'\u001b[39m\u001b[38;5;132;01m{\u001b[39;00mname\u001b[38;5;132;01m}\u001b[39;00m\u001b[38;5;124m KDE\u001b[39m\u001b[38;5;124m'\u001b[39m)\n\u001b[1;32m---> 69\u001b[0m stats\u001b[38;5;241m.\u001b[39mprobplot(transformed_data, plot\u001b[38;5;241m=\u001b[39maxes[i, \u001b[38;5;241m1\u001b[39m])\n\u001b[0;32m     70\u001b[0m axes[i, \u001b[38;5;241m1\u001b[39m]\u001b[38;5;241m.\u001b[39mset_title(\u001b[38;5;124mf\u001b[39m\u001b[38;5;124m'\u001b[39m\u001b[38;5;132;01m{\u001b[39;00mname\u001b[38;5;132;01m}\u001b[39;00m\u001b[38;5;124m Q-Q plot\u001b[39m\u001b[38;5;124m'\u001b[39m)\n\u001b[0;32m     72\u001b[0m \u001b[38;5;66;03m# Evaluate normality\u001b[39;00m\n",
      "\u001b[1;31mNameError\u001b[0m: name 'stats' is not defined"
     ]
    },
    {
     "data": {
      "image/png": "[encoded data removed]",
      "text/plain": [
       "<Figure size 1500x4000 with 16 Axes>"
      ]
     },
     "metadata": {},
     "output_type": "display_data"
    }
   ],
   "source": [
    "# Normality plots for STATSGODEP feature\n",
    "normality(vadeq_strmsts, 'STATSGODEP')"
   ]
  },
  {
   "cell_type": "markdown",
   "id": "09e9db50",
   "metadata": {},
   "source": [
    "#### ELEV"
   ]
  },
  {
   "cell_type": "code",
   "execution_count": null,
   "id": "aa24da0c",
   "metadata": {},
   "outputs": [],
   "source": [
    "# Normality plots for ELEV feature\n",
    "normality(vadeq_strmsts, 'ELEV')"
   ]
  },
  {
   "cell_type": "markdown",
   "id": "bf03e640",
   "metadata": {},
   "source": [
    "#### PKREGNO --> Not transformed given it is a category/group/cluster"
   ]
  },
  {
   "cell_type": "markdown",
   "id": "c00adc7f",
   "metadata": {},
   "source": [
    "#### STATSCLY20"
   ]
  },
  {
   "cell_type": "code",
   "execution_count": null,
   "id": "08b685a7",
   "metadata": {},
   "outputs": [],
   "source": [
    "# Normality plots for STATSCLY20\n",
    "normality(vadeq_strmsts, 'STATSCLY20')"
   ]
  },
  {
   "cell_type": "markdown",
   "id": "c57e0965",
   "metadata": {},
   "source": [
    "#### RELIEF"
   ]
  },
  {
   "cell_type": "code",
   "execution_count": null,
   "id": "90deccc1",
   "metadata": {},
   "outputs": [],
   "source": [
    "#Normality plots for RELIEF\n",
    "normality(vadeq_strmsts, 'RELIEF')"
   ]
  },
  {
   "cell_type": "markdown",
   "id": "d3c6d26e",
   "metadata": {},
   "source": [
    "#### STATSPERM"
   ]
  },
  {
   "cell_type": "code",
   "execution_count": null,
   "id": "e4fdeb83",
   "metadata": {},
   "outputs": [],
   "source": [
    "#Normality plots for STATSPERM\n",
    "normality(vadeq_strmsts, 'STATSPERM')"
   ]
  },
  {
   "cell_type": "markdown",
   "id": "c1d8121d",
   "metadata": {},
   "source": [
    "#### STATSCLY50"
   ]
  },
  {
   "cell_type": "code",
   "execution_count": null,
   "id": "1ff75aec",
   "metadata": {},
   "outputs": [],
   "source": [
    "#Normality plots for STATSCLY50\n",
    "normality(vadeq_strmsts, 'STATSCLY50')"
   ]
  },
  {
   "cell_type": "markdown",
   "id": "19b20476",
   "metadata": {},
   "source": [
    "#### LC11FORSHB"
   ]
  },
  {
   "cell_type": "code",
   "execution_count": null,
   "id": "8edade41",
   "metadata": {},
   "outputs": [],
   "source": [
    "#Normality plots for LC11FORSHB\n",
    "normality(vadeq_strmsts, 'LC11FORSHB')"
   ]
  },
  {
   "cell_type": "markdown",
   "id": "d318caad",
   "metadata": {},
   "source": [
    "#### LC11CRPHAY"
   ]
  },
  {
   "cell_type": "code",
   "execution_count": null,
   "id": "8b23d056",
   "metadata": {},
   "outputs": [],
   "source": [
    "#Normality plots for LC11CRPHAY\n",
    "normality(vadeq_strmsts, 'LC11CRPHAY')"
   ]
  },
  {
   "cell_type": "markdown",
   "id": "817d5abf",
   "metadata": {},
   "source": [
    "#### I24H2Y"
   ]
  },
  {
   "cell_type": "code",
   "execution_count": null,
   "id": "d8fd8904",
   "metadata": {},
   "outputs": [],
   "source": [
    "#Normality plots for I24H2Y\n",
    "normality(vadeq_strmsts, 'I24H2Y')"
   ]
  },
  {
   "cell_type": "markdown",
   "id": "6030728e",
   "metadata": {},
   "source": [
    "#### PRECIP"
   ]
  },
  {
   "cell_type": "code",
   "execution_count": null,
   "id": "62f6de54",
   "metadata": {},
   "outputs": [],
   "source": [
    "#Normality plots for PRECIP\n",
    "normality(vadeq_strmsts, 'PRECIP')"
   ]
  },
  {
   "cell_type": "markdown",
   "id": "4271c991",
   "metadata": {},
   "source": [
    "#### Year"
   ]
  },
  {
   "cell_type": "code",
   "execution_count": null,
   "id": "d5af85d5",
   "metadata": {},
   "outputs": [],
   "source": [
    "#Normality plot for Year\n",
    "normality(vadeq_strmsts, 'Year')"
   ]
  },
  {
   "cell_type": "markdown",
   "id": "277fe0e5",
   "metadata": {},
   "source": [
    "#### DRNAREA_SQKM"
   ]
  },
  {
   "cell_type": "code",
   "execution_count": null,
   "id": "e0a3c095",
   "metadata": {},
   "outputs": [],
   "source": [
    "#Normality plots for DRNAREA_SQKM\n",
    "normality(vadeq_strmsts, 'DRNAREA_SQKM')"
   ]
  },
  {
   "cell_type": "markdown",
   "id": "9c6424f0-c97b-4353-a10a-714e970f8933",
   "metadata": {},
   "source": [
    "### Step 2b. Apply transformations"
   ]
  },
  {
   "cell_type": "code",
   "execution_count": null,
   "id": "af873ac6-49a6-4ca3-bd60-ea54142cd813",
   "metadata": {},
   "outputs": [],
   "source": [
    "# Define transformers\n",
    "pt = PowerTransformer(method = 'yeo-johnson')\n",
    "qt = QuantileTransformer(output_distribution = 'normal')"
   ]
  },
  {
   "cell_type": "code",
   "execution_count": null,
   "id": "ba6d4235",
   "metadata": {},
   "outputs": [],
   "source": [
    "# Transform features based on visual and statistical results from above\n",
    "\n",
    "# Create new transformed column for each feature required\n",
    "vadeq_strmsts['Area-weighted average soil depth (QT)'] = qt.fit_transform(vadeq_strmsts['STATSGODEP'].values.reshape(-1, 1))\n",
    "vadeq_strmsts['Mean Basin Elevation (QT)'] = qt.fit_transform(vadeq_strmsts['ELEV'].values.reshape(-1, 1))\n",
    "vadeq_strmsts['% of Soils with greater than 10% and less than 20% Clay (sqrt)'] = np.sqrt(vadeq_strmsts['STATSCLY20'])\n",
    "vadeq_strmsts['Relief (QT)'] = qt.fit_transform(vadeq_strmsts['RELIEF'].values.reshape(-1, 1))\n",
    "vadeq_strmsts['Area-weighted Average Soil Permeability (log)'] = np.log((vadeq_strmsts['STATSPERM']) + 1)\n",
    "vadeq_strmsts['% of Soils with greater than 40% and less than 50% Clay (cbrt)'] = np.power(vadeq_strmsts['STATSCLY50'], 1/3)\n",
    "vadeq_strmsts['% of Forests and Shrub Lands (NLCD 2011) (YJ)'] = pt.fit_transform(vadeq_strmsts['LC11FORSHB'].values.reshape(-1, 1))\n",
    "vadeq_strmsts['% of Cultivated Crop and Pasture (NLCD 2011) (sqrt)'] = np.sqrt(vadeq_strmsts['LC11CRPHAY'])\n",
    "vadeq_strmsts['Max 24-Hour Precipitation for 2-Year Return Period (QT)'] = qt.fit_transform(vadeq_strmsts['I24H2Y'].values.reshape(-1, 1))\n",
    "vadeq_strmsts['Mean Annual Precipitation (QT)'] = qt.fit_transform(vadeq_strmsts['PRECIP'].values.reshape(-1, 1))\n",
    "vadeq_strmsts['Drainage Area (sq km) (QT)'] = qt.fit_transform(vadeq_strmsts['DRNAREA_SQKM'].values.reshape(-1, 1))"
   ]
  },
  {
   "cell_type": "code",
   "execution_count": null,
   "id": "6bd57aa1",
   "metadata": {},
   "outputs": [],
   "source": [
    "# Select columns based on visual and statistical results\n",
    "vadeq_strmsts = vadeq_strmsts[['StationID',\n",
    "                                 'Xembed',\n",
    "                                'Area-weighted average soil depth (QT)',\n",
    "                                'Mean Basin Elevation (QT)',\n",
    "                                '% of Soils with greater than 10% and less than 20% Clay (sqrt)',\n",
    "                                'Relief (QT)',\n",
    "                                'Area-weighted Average Soil Permeability (log)', \n",
    "                                '% of Soils with greater than 40% and less than 50% Clay (cbrt)',\n",
    "                                '% of Forests and Shrub Lands (NLCD 2011) (YJ)',\n",
    "                                '% of Cultivated Crop and Pasture (NLCD 2011) (sqrt)',\n",
    "                                'Max 24-Hour Precipitation for 2-Year Return Period (QT)',\n",
    "                                'Mean Annual Precipitation (QT)',\n",
    "                                'Year', # Original has same Shapiro-Wilk stat AND time is best left unchanged,\n",
    "                                'Drainage Area (sq km) (QT)',\n",
    "                                'PKREGNO_1550', # No need to change due to categorical columns\n",
    "                               'PKREGNO_1551',\n",
    "                               'PKREGNO_1552',\n",
    "                               'PKREGNO_1553',\n",
    "                               'PKREGNO_1554',\n",
    "                               'PKREGNO_1555']]"
   ]
  },
  {
   "cell_type": "code",
   "execution_count": null,
   "id": "f7473751-bad7-4d22-8968-861369e3a01c",
   "metadata": {},
   "outputs": [],
   "source": [
    "# Rename respective columns for plotting purposes\n",
    "vadeq_strmsts = vadeq_strmsts.rename(columns = {'StationID':'Station ID',\n",
    "                                                  'Xembed':'Mean Streambed Embeddedness (%)',\n",
    "                                                  'LC11CRPHAY':'% of Cultivated Crops and Hay (NLCD 2011)',\n",
    "                                                  'PKREGNO_1550.0':'Peak Flow Region Number 1550',\n",
    "                                                  'PKREGNO_1551.0':'Peak Flow Region Number 1551',\n",
    "                                                  'PKREGNO_1552.0':'Peak Flow Region Number 1552',\n",
    "                                                  'PKREGNO_1553.0':'Peak Flow Region Number 1553',\n",
    "                                                  'PKREGNO_1554.0':'Peak Flow Region Number 1554',\n",
    "                                                  'PKREGNO_1555.0':'Peak Flow Region Number 1555'})"
   ]
  },
  {
   "cell_type": "code",
   "execution_count": null,
   "id": "f2a3b14d-adb1-4cab-84f0-2ced7ab12085",
   "metadata": {
    "scrolled": true
   },
   "outputs": [],
   "source": [
    "# Display dataframe\n",
    "vadeq_strmsts"
   ]
  },
  {
   "cell_type": "markdown",
   "id": "3888f183-7422-44e3-a095-f0d41013a394",
   "metadata": {},
   "source": [
    "## Step 3. Export to Excel"
   ]
  },
  {
   "cell_type": "code",
   "execution_count": null,
   "id": "56ba9c11-cf4c-499b-b90c-6e0c099fe60b",
   "metadata": {},
   "outputs": [],
   "source": [
    "# Create path and push to model_ready folder\n",
    "mdl_path = os.path.join(BASE_DIR, \"data\", \"model_ready\", \"vadeq_strmsts_mdl.xlsx\")\n",
    "vadeq_strmsts.to_excel(mdl_path)"
   ]
  },
  {
   "cell_type": "code",
   "execution_count": null,
   "id": "962890ce-201e-475b-b922-8a40ba5b3dbf",
   "metadata": {},
   "outputs": [],
   "source": []
  }
 ],
 "metadata": {
  "kernelspec": {
   "display_name": "Python 3 (ipykernel)",
   "language": "python",
   "name": "python3"
  },
  "language_info": {
   "codemirror_mode": {
    "name": "ipython",
    "version": 3
   },
   "file_extension": ".py",
   "mimetype": "text/x-python",
   "name": "python",
   "nbconvert_exporter": "python",
   "pygments_lexer": "ipython3",
   "version": "3.12.4"
  }
 },
 "nbformat": 4,
 "nbformat_minor": 5
}
